{
 "cells": [
  {
   "cell_type": "markdown",
   "id": "c4ed0764",
   "metadata": {},
   "source": [
    "# Q1\n",
    "### a."
   ]
  },
  {
   "cell_type": "code",
   "execution_count": null,
   "id": "3c36543c",
   "metadata": {},
   "outputs": [],
   "source": [
    "import numpy as np\n",
    "from astropy.timeseries import periodograms"
   ]
  },
  {
   "cell_type": "code",
   "execution_count": 31,
   "id": "11ca271f",
   "metadata": {},
   "outputs": [],
   "source": [
    "def solve_kepler(e, M):\n",
    "    \"\"\"\n",
    "    Solve Kepler's Equation M = E - e sinE\n",
    "    \"\"\" \n",
    "    dEs = []\n",
    "    E = M + 0.85 * e * np.sign(np.sin(M))\n",
    "    dE = 1e3\n",
    "    while abs(E - e * np.sin(E) - M) > 1e-10:\n",
    "        dE = ((E - e * np.sin(E) - M)) / (1 - e * np.cos(E))\n",
    "        E -= dE\n",
    "    return E\n",
    "        \n",
    "    "
   ]
  },
  {
   "cell_type": "markdown",
   "id": "cd051da3",
   "metadata": {},
   "source": [
    "Verify over 0 < e < 1 and 0 < M < 2$\\pi$ that M = E - e sin(E)"
   ]
  },
  {
   "cell_type": "code",
   "execution_count": 39,
   "id": "43ba67f4",
   "metadata": {},
   "outputs": [],
   "source": [
    "e = np.random.random(size=10000)\n",
    "M = 2 * np.pi * np.random.random(size=10000)\n",
    "\n",
    "for e, M in zip(e, M):\n",
    "    E = solve_kepler(e, M)\n",
    "    assert(M - (E - e * np.sin(E)) < 1e-10)"
   ]
  },
  {
   "cell_type": "markdown",
   "id": "7813c96b",
   "metadata": {},
   "source": [
    "### b."
   ]
  },
  {
   "cell_type": "code",
   "execution_count": 32,
   "id": "788a35b6",
   "metadata": {},
   "outputs": [],
   "source": [
    "def true_anomaly(e, M):\n",
    "    E = solve_kepler(e, M)\n",
    "    return 2 * np.arctan(np.sqrt((1 + e) / (1 - e)) * np.tan(E / 2))"
   ]
  },
  {
   "cell_type": "code",
   "execution_count": null,
   "id": "10e5962c",
   "metadata": {},
   "outputs": [],
   "source": [
    "def RV_model(t, K_star, P, tp, e, omega, gamma):\n",
    "    M = 2 * np.pi / P * (t - tp)\n",
    "    f = true_anomaly(e, M)\n",
    "    return K_star * (np.cos(omega) * np.cos(f) - np.sin(omega) * np.sin(f) + e * np.cos(e)) + gamma\n"
   ]
  },
  {
   "cell_type": "markdown",
   "id": "e525b7ea",
   "metadata": {},
   "source": [
    "### c."
   ]
  },
  {
   "cell_type": "markdown",
   "id": "3792032d",
   "metadata": {},
   "source": [
    "### d."
   ]
  },
  {
   "cell_type": "code",
   "execution_count": 41,
   "id": "81dd175f",
   "metadata": {},
   "outputs": [
    {
     "name": "stdout",
     "output_type": "stream",
     "text": [
      "Collecting emcee\n",
      "  Downloading emcee-3.1.1-py2.py3-none-any.whl (45 kB)\n",
      "\u001b[K     |████████████████████████████████| 45 kB 8.2 MB/s  eta 0:00:01\n",
      "\u001b[?25hRequirement already satisfied: numpy in /Users/ykwang/opt/anaconda3/lib/python3.9/site-packages (from emcee) (1.20.3)\n",
      "Installing collected packages: emcee\n",
      "Successfully installed emcee-3.1.1\n"
     ]
    }
   ],
   "source": [
    "!pip install emcee"
   ]
  },
  {
   "cell_type": "code",
   "execution_count": null,
   "id": "8ba48a2c",
   "metadata": {},
   "outputs": [],
   "source": [
    "import pymc3 as pm"
   ]
  },
  {
   "cell_type": "code",
   "execution_count": null,
   "id": "4116b40a",
   "metadata": {},
   "outputs": [],
   "source": [
    "with pm.Model():\n",
    "    K_star = pm.Uniform('K_star', 0, 50) # max RV\n",
    "    P = pm.Uniform('P', 0, 50) # days\n",
    "    tp = pm.Uniform('tp', 0, 100) # day\n",
    "    e = pm.Uniform('e', 0, 1) # eccentricity\n",
    "    omega = pm.Uniform('omega', 0, 2 * np.pi) # angle\n",
    "    gamma = pm.Uniform('gamma', 0, 50) # COM velocity\n",
    "    \n",
    "\n",
    "    y = pm.Normal('RV', mu=RV_model(t, K_star, P, tp, e, omega, gamma), sd=y_err, observed=y_obs)\n",
    "\n",
    "    step = pm.Metropolis()\n",
    "    traces = pm.sample(draws=25000, tune=1000, step=step, chains=1)"
   ]
  },
  {
   "cell_type": "code",
   "execution_count": null,
   "id": "dc3d71a7",
   "metadata": {},
   "outputs": [],
   "source": [
    "def traces_to_pandas(traces, burnin):\n",
    "    varnames = [ var for var in traces.varnames if not var.endswith(\"_interval__\") ]\n",
    "    cols = { var: traces[var, :burnin] for var in varnames }\n",
    "    return pd.DataFrame(cols)\n",
    "\n",
    "df = traces_to_pandas(traces, 1000)\n",
    "\n",
    "variables = ['K_star', 'P', 'tp', 'e', 'omega', 'gamma']\n",
    "labels = ['$K_{star}$', '$Period$', '$t_p$', 'eccentricity', '$\\omega$', '\\gamma']\n",
    "# limits = [(9.2, 11.2), (2, 12), (45, 55), (0.0, 0.25)] # TODO\n",
    "# true = [K_star_true, P_true, tp_true, e_true, omega_true, gamma_true]\n",
    "\n",
    "fig = plt.figure(figsize=(10, 10))\n",
    "fig.subplots_adjust(bottom=0.1, top=0.95,\n",
    "                    left=0.1, right=0.95,\n",
    "                    hspace=0.05, wspace=0.05)\n",
    "\n",
    "# This function plots multiple panels with the traces\n",
    "plot_mcmc([df[col] for col in variables],\n",
    "          labels=labels, limits=limits,\n",
    "          true_values=true, fig=fig, bins=30, colors='k')\n",
    "\n",
    "# Plot the model fit\n",
    "ax = fig.add_axes([0.5, 0.7, 0.45, 0.25])\n",
    "t_fit = np.linspace(0, 100, 1000) # change to t\n",
    "y_fit = RV_model(t_fit, **df.median())\n",
    "# y_true = RV_model(t_fit, K_star_true, P_true, tp_true, e_true, omega_true, gamma_true)\n",
    "\n",
    "ax.scatter(t, y_obs, s=9, lw=0, c='k')\n",
    "# ax.plot(t_fit, y_true, '--', c='blue', label=\"true\")\n",
    "ax.plot(t_fit, y_fit, '-k', label=\"fit\")\n",
    "ax.legend()\n",
    "ax.set_xlim(0, 100)\n",
    "ax.set_xlabel('$t$')\n",
    "ax.set_ylabel(r'$h_{\\rm obs}$')\n",
    "\n",
    "plt.show()"
   ]
  },
  {
   "cell_type": "markdown",
   "id": "c1d5bd55",
   "metadata": {},
   "source": [
    "# Q2\n",
    "\n",
    "Note, in the write up, $\\textbf{r} = \\textbf{x}$ and $\\dot{\\textbf{r}} = \\textbf{v}$\n",
    "### a.\n",
    "Conservation of angular momentum means that cross product of the position and velocity of an object $\\textbf{r}\\times\\dot{\\textbf{r}}$ in orbit is conserved and equal to $|h|\\hat{z}$ where $\\hat{z} = \\hat{r}\\times\\dot{\\hat{r}}$ is perpendicular to the plane of orbit. Thus $\\textbf{r(t)}\\times\\dot{\\textbf{r(t)}} = \\textbf{r}_0\\times\\dot{\\textbf{r}_0}$ for all t as long as there is no change to the orbit. \n",
    "\n",
    "Now to prove the relation:\n",
    "$$ f\\dot{g} - g\\dot{f} = 1$$\n",
    "We know that by applying the f and g equations, we can find $\\textbf{r(t)}$ and $\\dot{\\textbf{r(t)}}$ as a function of $\\textbf{r}_0$ and $\\dot{\\textbf{r}_0}$:\n",
    "\n",
    "\n",
    "$$\n",
    "\\textbf{r} = f \\textbf{r}_0 + g \\dot{\\textbf{r}_0}\\\\\n",
    "\\dot{\\textbf{r}} = \\dot{f} \\textbf{r}_0 + \\dot{g} \\dot{\\textbf{r}_0}\n",
    "$$\n",
    "\n",
    "Taking the cross products of each side:\n",
    "$$\n",
    "\\textbf{r} \\times \\dot{\\textbf{r}} = (f \\textbf{r}_0 + g \\dot{\\textbf{r}_0}) \\times (\\dot{f} \\textbf{r}_0 + \\dot{g} \\dot{\\textbf{r}_0})\n",
    "$$\n",
    "Using the following two identities for the crossproduct:\n",
    "$$ \\textbf{x} \\times \\textbf{x} = 0 \\\\ \\textbf{x} \\times \\textbf{y} = - \\textbf{y} \\times \\textbf{x} $$\n",
    "We can reduce the RHS to:\n",
    "$$\n",
    "\\textbf{r} \\times \\dot{\\textbf{r}} = (f \\textbf{r}_0 + g \\dot{\\textbf{r}_0}) \\times (\\dot{f} \\textbf{r}_0 + \\dot{g} \\dot{\\textbf{r}_0}) \\\\\n",
    "\\textbf{r} \\times \\dot{\\textbf{r}} = (f \\textbf{r}_0 \\times \\dot{g} \\dot{\\textbf{r}_0}) + (g \\dot{\\textbf{r}_0} \\times \\dot{f} \\textbf{r}_0) \\\\\n",
    "\\textbf{r} \\times \\dot{\\textbf{r}} = (f \\dot{g} + -g \\dot{f}) (\\textbf{r}_0 \\times \\dot{\\textbf{r}_0})\n",
    "$$\n",
    "\n",
    "However, because of conservation of momentum, $\\textbf{r}\\times\\dot{\\textbf{r}} = \\textbf{r}_0\\times\\dot{\\textbf{r}_0}$, so we are left with:\n",
    "\n",
    "$$\\fbox{$f\\dot{g} - g\\dot{f} = 1$}\n",
    "$$"
   ]
  },
  {
   "cell_type": "markdown",
   "id": "1ef3ebd1",
   "metadata": {},
   "source": [
    "### b.\n",
    "The f and g functions are:\n",
    "\n",
    "$\n",
    "f = \\frac{a}{r_0}(\\cos(E - E_0) - 1) + 1 \\\\\n",
    "g = (t - t_0) + \\frac{1}{n}(\\sin(E - E_0) - (E - E_0)) \\\\\n",
    "\\dot{f} = -\\frac{a^2}{rr_0} n \\sin(E - E_0) \\\\\n",
    "\\dot{g} = \\frac{a}{r}(\\cos(E - E_0) - 1) + 1 \\\\\n",
    "$ \n",
    "\n",
    "\n",
    "We will set our reference frame so that $E_0 = M_0 = 0$ and that $M = n(t-t_0)$ and also pull out factors of $\\frac{a}{r_0}$ and $\\frac{a}{r}$ out of $f$ and $\\dot{g}$ We can rewrite these equations:\n",
    "\n",
    "\n",
    "$\n",
    "f = \\frac{a}{r_0}(\\cos{E} - 1 + \\frac{r_0}{a}) \\\\\n",
    "g = \\frac{1}{n}(M + \\sin{E} - E) \\\\\n",
    "\\dot{f} = -\\frac{a^2}{rr_0} n \\sin{E} \\\\\n",
    "\\dot{g} = \\frac{a}{r}(\\cos{E} - 1) + \\frac{r}{a}) \\\\\n",
    "$ \n",
    "\n",
    "Now solving for $f\\dot{g} - g\\dot{f}$:\n",
    "\n",
    "$f\\dot{g} - g\\dot{f} \\\\\n",
    "= [\\frac{a}{r_0}(\\cos{E} - 1 + \\frac{r_0}{a})][\\frac{a}{r}(\\cos{E} - 1) + \\frac{r}{a})] - [\\frac{1}{n}(M + \\sin{E} - E)][-\\frac{a^2}{rr_0} n \\sin{E}] \\\\\n",
    "= \\frac{a^2}{rr_0}\\Big[(\\cos{E} - 1 + \\frac{r_0}{a})(\\cos{E} - 1) + \\frac{r}{a}) + (M + \\sin{E} - E)\\sin{E}\\Big] \\\\\n",
    "$\n",
    "\n",
    "Making the following substitutions:\n",
    "\n",
    "$ M = E - e \\sin{E} \\\\\n",
    "r = a(1 - e \\cos{E}) \\\\\n",
    "r_0 = a(1 - e \\cos{E_0}) = a(1-e) \\\\\n",
    "$\n",
    "\n",
    "We get:\n",
    "$f\\dot{g} - g\\dot{f} \\\\\n",
    "= \\frac{a^2}{rr_0}\\Big[[(\\cos{E} - 1 + 1-e)(\\cos{E} - 1 + 1 - e \\cos{E})] + [(E - e \\sin{E} + \\sin{E} - E)\\sin{E}]\\Big] \\\\\n",
    "= \\frac{a^2}{rr_0}\\Big[[(\\cos{E} - e)(\\cos{E} - e \\cos{E})] + [\\sin{E}(1 - e)\\sin{E}]\\Big] \\\\\n",
    "= \\frac{a^2}{rr_0}\\Big[\\cos^2{E} - e\\cos^2{E} - e \\cos{E} + e^2\\cos{E} + \\sin^2{E} - e\\sin^2{E}\\Big] \\\\\n",
    "= \\frac{a^2}{rr_0}\\Big[\\cos^2{E} + \\sin^2{E} - e(\\cos^2{E} + \\sin^2{E}) - e \\cos{E} + e^2\\cos{E} \\Big] \\\\\n",
    "= \\frac{a^2}{rr_0}\\Big[1 - e - e \\cos{E} + e^2\\cos{E} \\Big] \\\\\n",
    "= \\frac{a^2}{rr_0}\\Big[(1 - e)(1 - e \\cos{E})\\Big] \\\\\n",
    "= \\frac{a^2}{rr_0}\\frac{rr_0}{a^2} \\\\\n",
    "\\fbox{$= 1$}\n",
    "$"
   ]
  },
  {
   "cell_type": "markdown",
   "id": "0c0a1c13",
   "metadata": {},
   "source": [
    "Thus if Kepler's equation is satisfied, $f\\dot{g} - g\\dot{f} = 1$ and therefore angular momentum is conserved"
   ]
  }
 ],
 "metadata": {
  "kernelspec": {
   "display_name": "Python 3 (ipykernel)",
   "language": "python",
   "name": "python3"
  },
  "language_info": {
   "codemirror_mode": {
    "name": "ipython",
    "version": 3
   },
   "file_extension": ".py",
   "mimetype": "text/x-python",
   "name": "python",
   "nbconvert_exporter": "python",
   "pygments_lexer": "ipython3",
   "version": "3.9.7"
  }
 },
 "nbformat": 4,
 "nbformat_minor": 5
}
