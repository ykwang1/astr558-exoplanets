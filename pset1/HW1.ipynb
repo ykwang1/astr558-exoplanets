{
 "cells": [
  {
   "cell_type": "markdown",
   "id": "2fa20172",
   "metadata": {},
   "source": [
    "# Q1"
   ]
  },
  {
   "cell_type": "code",
   "execution_count": null,
   "id": "17ca1594",
   "metadata": {},
   "outputs": [],
   "source": [
    "import numpy as np\n",
    "from astropy.timeseries import periodograms"
   ]
  },
  {
   "cell_type": "code",
   "execution_count": 31,
   "id": "edbec5c7",
   "metadata": {},
   "outputs": [],
   "source": [
    "def solve_kepler(e, M):\n",
    "    \"\"\"\n",
    "    Solve Kepler's Equation M = E - e sinE\n",
    "    \"\"\" \n",
    "    dEs = []\n",
    "    E = M + 0.85 * e * np.sign(np.sin(M))\n",
    "    dE = 1e3\n",
    "    while abs(E - e * np.sin(E) - M) > 1e-10:\n",
    "        dE = ((E - e * np.sin(E) - M)) / (1 - e * np.cos(E))\n",
    "        E -= dE\n",
    "    return E\n",
    "        \n",
    "    "
   ]
  },
  {
   "cell_type": "markdown",
   "id": "85e86d98",
   "metadata": {},
   "source": [
    "Verify over 0 < e < 1 and 0 < M < 2$\\pi$ that M = E - e sin(E)"
   ]
  },
  {
   "cell_type": "code",
   "execution_count": 39,
   "id": "7acc4929",
   "metadata": {},
   "outputs": [],
   "source": [
    "e = np.random.random(size=10000)\n",
    "M = 2 * np.pi * np.random.random(size=10000)\n",
    "\n",
    "for e, M in zip(e, M):\n",
    "    E = solve_kepler(e, M)\n",
    "    assert(M - (E - e * np.sin(E)) < 1e-10)"
   ]
  },
  {
   "cell_type": "markdown",
   "id": "5bf41093",
   "metadata": {},
   "source": [
    "# Q2"
   ]
  },
  {
   "cell_type": "code",
   "execution_count": 32,
   "id": "1fd40deb",
   "metadata": {},
   "outputs": [],
   "source": [
    "def true_anomaly(e, M):\n",
    "    E = solve_kepler(e, M)\n",
    "    return 2 * np.arctan(np.sqrt((1 + e) / (1 - e)) * np.tan(E / 2))"
   ]
  },
  {
   "cell_type": "code",
   "execution_count": null,
   "id": "9b328d64",
   "metadata": {},
   "outputs": [],
   "source": [
    "def RV_solver(K_star, P, t, tp, e, omega, gamma):\n",
    "    M = 2 * np.pi / P * (t - tp)\n",
    "    f = true_anomaly(e, M)\n",
    "    return K_star * (np.cos(omega) * np.cos(f) - np.sin(omega) * np.sin(f) + e * np.cos(e)) + gamma\n"
   ]
  },
  {
   "cell_type": "markdown",
   "id": "bde73550",
   "metadata": {},
   "source": [
    "# Q3"
   ]
  },
  {
   "cell_type": "code",
   "execution_count": null,
   "id": "34ad4521",
   "metadata": {},
   "outputs": [],
   "source": []
  }
 ],
 "metadata": {
  "kernelspec": {
   "display_name": "Python 3 (ipykernel)",
   "language": "python",
   "name": "python3"
  },
  "language_info": {
   "codemirror_mode": {
    "name": "ipython",
    "version": 3
   },
   "file_extension": ".py",
   "mimetype": "text/x-python",
   "name": "python",
   "nbconvert_exporter": "python",
   "pygments_lexer": "ipython3",
   "version": "3.9.7"
  }
 },
 "nbformat": 4,
 "nbformat_minor": 5
}
